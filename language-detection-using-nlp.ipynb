{
 "cells": [
  {
   "cell_type": "code",
   "execution_count": 1,
   "id": "d9de8604",
   "metadata": {
    "_cell_guid": "b1076dfc-b9ad-4769-8c92-a6c4dae69d19",
    "_uuid": "8f2839f25d086af736a60e9eeb907d3b93b6e0e5",
    "execution": {
     "iopub.execute_input": "2022-09-17T10:53:45.032676Z",
     "iopub.status.busy": "2022-09-17T10:53:45.032167Z",
     "iopub.status.idle": "2022-09-17T10:53:46.269535Z",
     "shell.execute_reply": "2022-09-17T10:53:46.268199Z"
    },
    "papermill": {
     "duration": 1.249073,
     "end_time": "2022-09-17T10:53:46.273160",
     "exception": false,
     "start_time": "2022-09-17T10:53:45.024087",
     "status": "completed"
    },
    "tags": []
   },
   "outputs": [],
   "source": [
    "#Importing Libraries \n",
    "\n",
    "import pandas as pd\n",
    "import numpy as np\n",
    "import re          #regular expression\n",
    "import seaborn as sns\n",
    "import matplotlib.pyplot as plt\n",
    "import warnings\n",
    "warnings.simplefilter(\"ignore\")"
   ]
  },
  {
   "cell_type": "code",
   "execution_count": 2,
   "id": "e5dac6f6",
   "metadata": {
    "execution": {
     "iopub.execute_input": "2022-09-17T10:53:46.289666Z",
     "iopub.status.busy": "2022-09-17T10:53:46.288608Z",
     "iopub.status.idle": "2022-09-17T10:53:46.396062Z",
     "shell.execute_reply": "2022-09-17T10:53:46.395201Z"
    },
    "papermill": {
     "duration": 0.119536,
     "end_time": "2022-09-17T10:53:46.399850",
     "exception": false,
     "start_time": "2022-09-17T10:53:46.280314",
     "status": "completed"
    },
    "tags": []
   },
   "outputs": [
    {
     "data": {
      "text/html": [
       "<div>\n",
       "<style scoped>\n",
       "    .dataframe tbody tr th:only-of-type {\n",
       "        vertical-align: middle;\n",
       "    }\n",
       "\n",
       "    .dataframe tbody tr th {\n",
       "        vertical-align: top;\n",
       "    }\n",
       "\n",
       "    .dataframe thead th {\n",
       "        text-align: right;\n",
       "    }\n",
       "</style>\n",
       "<table border=\"1\" class=\"dataframe\">\n",
       "  <thead>\n",
       "    <tr style=\"text-align: right;\">\n",
       "      <th></th>\n",
       "      <th>Text</th>\n",
       "      <th>Language</th>\n",
       "    </tr>\n",
       "  </thead>\n",
       "  <tbody>\n",
       "    <tr>\n",
       "      <th>0</th>\n",
       "      <td>Nature, in the broadest sense, is the natural...</td>\n",
       "      <td>English</td>\n",
       "    </tr>\n",
       "    <tr>\n",
       "      <th>1</th>\n",
       "      <td>\"Nature\" can refer to the phenomena of the phy...</td>\n",
       "      <td>English</td>\n",
       "    </tr>\n",
       "    <tr>\n",
       "      <th>2</th>\n",
       "      <td>The study of nature is a large, if not the onl...</td>\n",
       "      <td>English</td>\n",
       "    </tr>\n",
       "    <tr>\n",
       "      <th>3</th>\n",
       "      <td>Although humans are part of nature, human acti...</td>\n",
       "      <td>English</td>\n",
       "    </tr>\n",
       "    <tr>\n",
       "      <th>4</th>\n",
       "      <td>[1] The word nature is borrowed from the Old F...</td>\n",
       "      <td>English</td>\n",
       "    </tr>\n",
       "    <tr>\n",
       "      <th>...</th>\n",
       "      <td>...</td>\n",
       "      <td>...</td>\n",
       "    </tr>\n",
       "    <tr>\n",
       "      <th>10332</th>\n",
       "      <td>ನಿಮ್ಮ ತಪ್ಪು ಏನು ಬಂದಿದೆಯೆಂದರೆ ಆ ದಿನದಿಂದ ನಿಮಗೆ ಒ...</td>\n",
       "      <td>Kannada</td>\n",
       "    </tr>\n",
       "    <tr>\n",
       "      <th>10333</th>\n",
       "      <td>ನಾರ್ಸಿಸಾ ತಾನು ಮೊದಲಿಗೆ ಹೆಣಗಾಡುತ್ತಿದ್ದ ಮಾರ್ಗಗಳನ್...</td>\n",
       "      <td>Kannada</td>\n",
       "    </tr>\n",
       "    <tr>\n",
       "      <th>10334</th>\n",
       "      <td>ಹೇಗೆ ' ನಾರ್ಸಿಸಿಸಮ್ ಈಗ ಮರಿಯನ್ ಅವರಿಗೆ ಸಂಭವಿಸಿದ ಎ...</td>\n",
       "      <td>Kannada</td>\n",
       "    </tr>\n",
       "    <tr>\n",
       "      <th>10335</th>\n",
       "      <td>ಅವಳು ಈಗ ಹೆಚ್ಚು ಚಿನ್ನದ ಬ್ರೆಡ್ ಬಯಸುವುದಿಲ್ಲ ಎಂದು ...</td>\n",
       "      <td>Kannada</td>\n",
       "    </tr>\n",
       "    <tr>\n",
       "      <th>10336</th>\n",
       "      <td>ಟೆರ್ರಿ ನೀವು ನಿಜವಾಗಿಯೂ ಆ ದೇವದೂತನಂತೆ ಸ್ವಲ್ಪ ಕಾಣು...</td>\n",
       "      <td>Kannada</td>\n",
       "    </tr>\n",
       "  </tbody>\n",
       "</table>\n",
       "<p>10337 rows × 2 columns</p>\n",
       "</div>"
      ],
      "text/plain": [
       "                                                    Text Language\n",
       "0       Nature, in the broadest sense, is the natural...  English\n",
       "1      \"Nature\" can refer to the phenomena of the phy...  English\n",
       "2      The study of nature is a large, if not the onl...  English\n",
       "3      Although humans are part of nature, human acti...  English\n",
       "4      [1] The word nature is borrowed from the Old F...  English\n",
       "...                                                  ...      ...\n",
       "10332  ನಿಮ್ಮ ತಪ್ಪು ಏನು ಬಂದಿದೆಯೆಂದರೆ ಆ ದಿನದಿಂದ ನಿಮಗೆ ಒ...  Kannada\n",
       "10333  ನಾರ್ಸಿಸಾ ತಾನು ಮೊದಲಿಗೆ ಹೆಣಗಾಡುತ್ತಿದ್ದ ಮಾರ್ಗಗಳನ್...  Kannada\n",
       "10334  ಹೇಗೆ ' ನಾರ್ಸಿಸಿಸಮ್ ಈಗ ಮರಿಯನ್ ಅವರಿಗೆ ಸಂಭವಿಸಿದ ಎ...  Kannada\n",
       "10335  ಅವಳು ಈಗ ಹೆಚ್ಚು ಚಿನ್ನದ ಬ್ರೆಡ್ ಬಯಸುವುದಿಲ್ಲ ಎಂದು ...  Kannada\n",
       "10336  ಟೆರ್ರಿ ನೀವು ನಿಜವಾಗಿಯೂ ಆ ದೇವದೂತನಂತೆ ಸ್ವಲ್ಪ ಕಾಣು...  Kannada\n",
       "\n",
       "[10337 rows x 2 columns]"
      ]
     },
     "execution_count": 2,
     "metadata": {},
     "output_type": "execute_result"
    }
   ],
   "source": [
    "data = pd.read_csv(\"Language Detection.csv\")\n",
    "data"
   ]
  },
  {
   "cell_type": "code",
   "execution_count": 3,
   "id": "816bcba3",
   "metadata": {},
   "outputs": [
    {
     "data": {
      "text/html": [
       "<div>\n",
       "<style scoped>\n",
       "    .dataframe tbody tr th:only-of-type {\n",
       "        vertical-align: middle;\n",
       "    }\n",
       "\n",
       "    .dataframe tbody tr th {\n",
       "        vertical-align: top;\n",
       "    }\n",
       "\n",
       "    .dataframe thead th {\n",
       "        text-align: right;\n",
       "    }\n",
       "</style>\n",
       "<table border=\"1\" class=\"dataframe\">\n",
       "  <thead>\n",
       "    <tr style=\"text-align: right;\">\n",
       "      <th></th>\n",
       "      <th>Text</th>\n",
       "      <th>Language</th>\n",
       "    </tr>\n",
       "  </thead>\n",
       "  <tbody>\n",
       "    <tr>\n",
       "      <th>0</th>\n",
       "      <td>Nature, in the broadest sense, is the natural...</td>\n",
       "      <td>English</td>\n",
       "    </tr>\n",
       "    <tr>\n",
       "      <th>1</th>\n",
       "      <td>\"Nature\" can refer to the phenomena of the phy...</td>\n",
       "      <td>English</td>\n",
       "    </tr>\n",
       "    <tr>\n",
       "      <th>2</th>\n",
       "      <td>The study of nature is a large, if not the onl...</td>\n",
       "      <td>English</td>\n",
       "    </tr>\n",
       "    <tr>\n",
       "      <th>3</th>\n",
       "      <td>Although humans are part of nature, human acti...</td>\n",
       "      <td>English</td>\n",
       "    </tr>\n",
       "    <tr>\n",
       "      <th>4</th>\n",
       "      <td>[1] The word nature is borrowed from the Old F...</td>\n",
       "      <td>English</td>\n",
       "    </tr>\n",
       "    <tr>\n",
       "      <th>5</th>\n",
       "      <td>[2] In ancient philosophy, natura is mostly us...</td>\n",
       "      <td>English</td>\n",
       "    </tr>\n",
       "    <tr>\n",
       "      <th>6</th>\n",
       "      <td>[3][4] \\nThe concept of nature as a whole, the...</td>\n",
       "      <td>English</td>\n",
       "    </tr>\n",
       "    <tr>\n",
       "      <th>7</th>\n",
       "      <td>During the advent of modern scientific method ...</td>\n",
       "      <td>English</td>\n",
       "    </tr>\n",
       "    <tr>\n",
       "      <th>8</th>\n",
       "      <td>[5][6] With the Industrial revolution, nature ...</td>\n",
       "      <td>English</td>\n",
       "    </tr>\n",
       "    <tr>\n",
       "      <th>9</th>\n",
       "      <td>However, a vitalist vision of nature, closer t...</td>\n",
       "      <td>English</td>\n",
       "    </tr>\n",
       "  </tbody>\n",
       "</table>\n",
       "</div>"
      ],
      "text/plain": [
       "                                                Text Language\n",
       "0   Nature, in the broadest sense, is the natural...  English\n",
       "1  \"Nature\" can refer to the phenomena of the phy...  English\n",
       "2  The study of nature is a large, if not the onl...  English\n",
       "3  Although humans are part of nature, human acti...  English\n",
       "4  [1] The word nature is borrowed from the Old F...  English\n",
       "5  [2] In ancient philosophy, natura is mostly us...  English\n",
       "6  [3][4] \\nThe concept of nature as a whole, the...  English\n",
       "7  During the advent of modern scientific method ...  English\n",
       "8  [5][6] With the Industrial revolution, nature ...  English\n",
       "9  However, a vitalist vision of nature, closer t...  English"
      ]
     },
     "execution_count": 3,
     "metadata": {},
     "output_type": "execute_result"
    }
   ],
   "source": [
    "data.head(10)"
   ]
  },
  {
   "cell_type": "code",
   "execution_count": 4,
   "id": "ffe45259",
   "metadata": {
    "execution": {
     "iopub.execute_input": "2022-09-17T10:53:46.418397Z",
     "iopub.status.busy": "2022-09-17T10:53:46.417553Z",
     "iopub.status.idle": "2022-09-17T10:53:46.438063Z",
     "shell.execute_reply": "2022-09-17T10:53:46.436926Z"
    },
    "papermill": {
     "duration": 0.034624,
     "end_time": "2022-09-17T10:53:46.442085",
     "exception": false,
     "start_time": "2022-09-17T10:53:46.407461",
     "status": "completed"
    },
    "tags": []
   },
   "outputs": [
    {
     "data": {
      "text/plain": [
       "English       1385\n",
       "French        1014\n",
       "Spanish        819\n",
       "Portugeese     739\n",
       "Italian        698\n",
       "Russian        692\n",
       "Sweedish       676\n",
       "Malayalam      594\n",
       "Dutch          546\n",
       "Arabic         536\n",
       "Turkish        474\n",
       "German         470\n",
       "Tamil          469\n",
       "Danish         428\n",
       "Kannada        369\n",
       "Greek          365\n",
       "Hindi           63\n",
       "Name: Language, dtype: int64"
      ]
     },
     "execution_count": 4,
     "metadata": {},
     "output_type": "execute_result"
    }
   ],
   "source": [
    "data[\"Language\"].value_counts() #value_counts() is used to get a Series containing counts of unique values. "
   ]
  },
  {
   "cell_type": "code",
   "execution_count": 5,
   "id": "2218dd77",
   "metadata": {
    "execution": {
     "iopub.execute_input": "2022-09-17T10:53:46.458902Z",
     "iopub.status.busy": "2022-09-17T10:53:46.458306Z",
     "iopub.status.idle": "2022-09-17T10:53:46.624683Z",
     "shell.execute_reply": "2022-09-17T10:53:46.623450Z"
    },
    "papermill": {
     "duration": 0.177867,
     "end_time": "2022-09-17T10:53:46.627378",
     "exception": false,
     "start_time": "2022-09-17T10:53:46.449511",
     "status": "completed"
    },
    "tags": []
   },
   "outputs": [],
   "source": [
    "#Separating Independent and Dependent features\n",
    "X = data[\"Text\"]\n",
    "y = data[\"Language\"]\n",
    "\n",
    "#Label Encoding to convert it into a numerical form\n",
    "from sklearn.preprocessing import LabelEncoder\n",
    "le = LabelEncoder()\n",
    "y = le.fit_transform(y)"
   ]
  },
  {
   "cell_type": "markdown",
   "id": "dc8dcc9a",
   "metadata": {
    "papermill": {
     "duration": 0.004695,
     "end_time": "2022-09-17T10:53:46.637379",
     "exception": false,
     "start_time": "2022-09-17T10:53:46.632684",
     "status": "completed"
    },
    "tags": []
   },
   "source": [
    "TEXT PREPROCESSING"
   ]
  },
  {
   "cell_type": "code",
   "execution_count": 6,
   "id": "775bff50",
   "metadata": {
    "execution": {
     "iopub.execute_input": "2022-09-17T10:53:46.649212Z",
     "iopub.status.busy": "2022-09-17T10:53:46.648729Z",
     "iopub.status.idle": "2022-09-17T10:53:46.725348Z",
     "shell.execute_reply": "2022-09-17T10:53:46.724463Z"
    },
    "papermill": {
     "duration": 0.085879,
     "end_time": "2022-09-17T10:53:46.728111",
     "exception": false,
     "start_time": "2022-09-17T10:53:46.642232",
     "status": "completed"
    },
    "tags": []
   },
   "outputs": [],
   "source": [
    "data_list = []\n",
    "\n",
    "# iterating through all the text\n",
    "for text in X:         \n",
    "    text = re.sub(r'[!@#$(),n\"%^*?:;~`0-9]', ' ', text)      # removing the symbols and numbers\n",
    "    text = re.sub(r'[[]]', ' ', text)   \n",
    "    text = text.lower()          # converting the text to lower case\n",
    "    data_list.append(text)       # appending to data_list"
   ]
  },
  {
   "cell_type": "code",
   "execution_count": 7,
   "id": "bb77378d",
   "metadata": {
    "execution": {
     "iopub.execute_input": "2022-09-17T10:53:46.741152Z",
     "iopub.status.busy": "2022-09-17T10:53:46.740406Z",
     "iopub.status.idle": "2022-09-17T10:53:47.416243Z",
     "shell.execute_reply": "2022-09-17T10:53:47.414709Z"
    },
    "papermill": {
     "duration": 0.685325,
     "end_time": "2022-09-17T10:53:47.419025",
     "exception": false,
     "start_time": "2022-09-17T10:53:46.733700",
     "status": "completed"
    },
    "tags": []
   },
   "outputs": [
    {
     "data": {
      "text/plain": [
       "(10337, 34937)"
      ]
     },
     "execution_count": 7,
     "metadata": {},
     "output_type": "execute_result"
    }
   ],
   "source": [
    "#Bag of Words [ converting text into numerical form by creating a Bag of Words model using CountVectorizer.]\n",
    "from sklearn.feature_extraction.text import CountVectorizer\n",
    "cv = CountVectorizer() # tokenize a collection of text documents\n",
    "X = cv.fit_transform(data_list).toarray()\n",
    "X.shape # (10337, 39419)"
   ]
  },
  {
   "cell_type": "code",
   "execution_count": 8,
   "id": "ed1ae79e",
   "metadata": {
    "execution": {
     "iopub.execute_input": "2022-09-17T10:53:47.432815Z",
     "iopub.status.busy": "2022-09-17T10:53:47.432228Z",
     "iopub.status.idle": "2022-09-17T10:53:49.932800Z",
     "shell.execute_reply": "2022-09-17T10:53:49.931259Z"
    },
    "papermill": {
     "duration": 2.511448,
     "end_time": "2022-09-17T10:53:49.936007",
     "exception": false,
     "start_time": "2022-09-17T10:53:47.424559",
     "status": "completed"
    },
    "tags": []
   },
   "outputs": [],
   "source": [
    "#train-test split\n",
    "from sklearn.model_selection import train_test_split\n",
    "x_train, x_test, y_train, y_test = train_test_split(X, y, test_size = 0.20, random_state=42)"
   ]
  },
  {
   "cell_type": "code",
   "execution_count": 9,
   "id": "1e263d9a",
   "metadata": {
    "execution": {
     "iopub.execute_input": "2022-09-17T10:53:49.950305Z",
     "iopub.status.busy": "2022-09-17T10:53:49.948920Z",
     "iopub.status.idle": "2022-09-17T10:54:24.177261Z",
     "shell.execute_reply": "2022-09-17T10:54:24.175806Z"
    },
    "papermill": {
     "duration": 34.242848,
     "end_time": "2022-09-17T10:54:24.184954",
     "exception": false,
     "start_time": "2022-09-17T10:53:49.942106",
     "status": "completed"
    },
    "tags": []
   },
   "outputs": [
    {
     "data": {
      "text/plain": [
       "MultinomialNB()"
      ]
     },
     "execution_count": 9,
     "metadata": {},
     "output_type": "execute_result"
    }
   ],
   "source": [
    "# Model Training\n",
    "from sklearn.naive_bayes import MultinomialNB  \n",
    "model = MultinomialNB()\n",
    "model.fit(x_train, y_train)"
   ]
  },
  {
   "cell_type": "code",
   "execution_count": 10,
   "id": "ec3406c4",
   "metadata": {
    "execution": {
     "iopub.execute_input": "2022-09-17T10:54:24.198319Z",
     "iopub.status.busy": "2022-09-17T10:54:24.197863Z",
     "iopub.status.idle": "2022-09-17T10:54:24.718318Z",
     "shell.execute_reply": "2022-09-17T10:54:24.716725Z"
    },
    "papermill": {
     "duration": 0.532716,
     "end_time": "2022-09-17T10:54:24.723657",
     "exception": false,
     "start_time": "2022-09-17T10:54:24.190941",
     "status": "completed"
    },
    "tags": []
   },
   "outputs": [],
   "source": [
    "#predict output for test dataset\n",
    "y_pred = model.predict(x_test)"
   ]
  },
  {
   "cell_type": "code",
   "execution_count": 11,
   "id": "312084dc",
   "metadata": {
    "execution": {
     "iopub.execute_input": "2022-09-17T10:54:24.757211Z",
     "iopub.status.busy": "2022-09-17T10:54:24.756502Z",
     "iopub.status.idle": "2022-09-17T10:54:24.770857Z",
     "shell.execute_reply": "2022-09-17T10:54:24.769009Z"
    },
    "papermill": {
     "duration": 0.037059,
     "end_time": "2022-09-17T10:54:24.775567",
     "exception": false,
     "start_time": "2022-09-17T10:54:24.738508",
     "status": "completed"
    },
    "tags": []
   },
   "outputs": [],
   "source": [
    "from sklearn.metrics import accuracy_score, confusion_matrix, classification_report\n",
    "ac = accuracy_score(y_test, y_pred)\n",
    "cm = confusion_matrix(y_test, y_pred)"
   ]
  },
  {
   "cell_type": "code",
   "execution_count": 12,
   "id": "8fd1feb9",
   "metadata": {
    "execution": {
     "iopub.execute_input": "2022-09-17T10:54:24.811189Z",
     "iopub.status.busy": "2022-09-17T10:54:24.808894Z",
     "iopub.status.idle": "2022-09-17T10:54:24.818881Z",
     "shell.execute_reply": "2022-09-17T10:54:24.817383Z"
    },
    "papermill": {
     "duration": 0.034506,
     "end_time": "2022-09-17T10:54:24.825740",
     "exception": false,
     "start_time": "2022-09-17T10:54:24.791234",
     "status": "completed"
    },
    "tags": []
   },
   "outputs": [
    {
     "name": "stdout",
     "output_type": "stream",
     "text": [
      "Accuracy is : 0.9796905222437138\n"
     ]
    }
   ],
   "source": [
    "print(\"Accuracy is :\",ac)"
   ]
  },
  {
   "cell_type": "code",
   "execution_count": 13,
   "id": "87bd1bd8",
   "metadata": {
    "execution": {
     "iopub.execute_input": "2022-09-17T10:54:24.845698Z",
     "iopub.status.busy": "2022-09-17T10:54:24.845304Z",
     "iopub.status.idle": "2022-09-17T10:54:24.865325Z",
     "shell.execute_reply": "2022-09-17T10:54:24.864052Z"
    },
    "papermill": {
     "duration": 0.031628,
     "end_time": "2022-09-17T10:54:24.867887",
     "exception": false,
     "start_time": "2022-09-17T10:54:24.836259",
     "status": "completed"
    },
    "tags": []
   },
   "outputs": [
    {
     "data": {
      "text/html": [
       "<div>\n",
       "<style scoped>\n",
       "    .dataframe tbody tr th:only-of-type {\n",
       "        vertical-align: middle;\n",
       "    }\n",
       "\n",
       "    .dataframe tbody tr th {\n",
       "        vertical-align: top;\n",
       "    }\n",
       "\n",
       "    .dataframe thead th {\n",
       "        text-align: right;\n",
       "    }\n",
       "</style>\n",
       "<table border=\"1\" class=\"dataframe\">\n",
       "  <thead>\n",
       "    <tr style=\"text-align: right;\">\n",
       "      <th></th>\n",
       "      <th>Text</th>\n",
       "      <th>Language</th>\n",
       "    </tr>\n",
       "  </thead>\n",
       "  <tbody>\n",
       "    <tr>\n",
       "      <th>4810</th>\n",
       "      <td>Nature es una de las más prestigiosas revistas...</td>\n",
       "      <td>Spanish</td>\n",
       "    </tr>\n",
       "    <tr>\n",
       "      <th>4811</th>\n",
       "      <td>Su primer número fue publicado el 4 de noviemb...</td>\n",
       "      <td>Spanish</td>\n",
       "    </tr>\n",
       "    <tr>\n",
       "      <th>4812</th>\n",
       "      <td>[2]​ Con una periodicidad semanal, la revista ...</td>\n",
       "      <td>Spanish</td>\n",
       "    </tr>\n",
       "    <tr>\n",
       "      <th>4813</th>\n",
       "      <td>Nature tiene oficinas en Londres, Nueva York, ...</td>\n",
       "      <td>Spanish</td>\n",
       "    </tr>\n",
       "    <tr>\n",
       "      <th>4814</th>\n",
       "      <td>La editorial publica también varias revistas e...</td>\n",
       "      <td>Spanish</td>\n",
       "    </tr>\n",
       "    <tr>\n",
       "      <th>...</th>\n",
       "      <td>...</td>\n",
       "      <td>...</td>\n",
       "    </tr>\n",
       "    <tr>\n",
       "      <th>5624</th>\n",
       "      <td>¿Tiene ella?</td>\n",
       "      <td>Spanish</td>\n",
       "    </tr>\n",
       "    <tr>\n",
       "      <th>5625</th>\n",
       "      <td>Supongo que no querría más pan de oro ahora ¿e...</td>\n",
       "      <td>Spanish</td>\n",
       "    </tr>\n",
       "    <tr>\n",
       "      <th>5626</th>\n",
       "      <td>Terry, en realidad te pareces un poco a ese án...</td>\n",
       "      <td>Spanish</td>\n",
       "    </tr>\n",
       "    <tr>\n",
       "      <th>5627</th>\n",
       "      <td>¿Cómo pudiste ser él?</td>\n",
       "      <td>Spanish</td>\n",
       "    </tr>\n",
       "    <tr>\n",
       "      <th>5628</th>\n",
       "      <td>Ustedes dos son tan amables</td>\n",
       "      <td>Spanish</td>\n",
       "    </tr>\n",
       "  </tbody>\n",
       "</table>\n",
       "<p>819 rows × 2 columns</p>\n",
       "</div>"
      ],
      "text/plain": [
       "                                                   Text Language\n",
       "4810  Nature es una de las más prestigiosas revistas...  Spanish\n",
       "4811  Su primer número fue publicado el 4 de noviemb...  Spanish\n",
       "4812  [2]​ Con una periodicidad semanal, la revista ...  Spanish\n",
       "4813  Nature tiene oficinas en Londres, Nueva York, ...  Spanish\n",
       "4814  La editorial publica también varias revistas e...  Spanish\n",
       "...                                                 ...      ...\n",
       "5624                                       ¿Tiene ella?  Spanish\n",
       "5625  Supongo que no querría más pan de oro ahora ¿e...  Spanish\n",
       "5626  Terry, en realidad te pareces un poco a ese án...  Spanish\n",
       "5627                              ¿Cómo pudiste ser él?  Spanish\n",
       "5628                        Ustedes dos son tan amables  Spanish\n",
       "\n",
       "[819 rows x 2 columns]"
      ]
     },
     "execution_count": 13,
     "metadata": {},
     "output_type": "execute_result"
    }
   ],
   "source": [
    "data[data['Language']=='Spanish']"
   ]
  },
  {
   "cell_type": "code",
   "execution_count": 14,
   "id": "f4ea5467",
   "metadata": {
    "execution": {
     "iopub.execute_input": "2022-09-17T10:54:24.883059Z",
     "iopub.status.busy": "2022-09-17T10:54:24.882268Z",
     "iopub.status.idle": "2022-09-17T10:54:24.889059Z",
     "shell.execute_reply": "2022-09-17T10:54:24.888038Z"
    },
    "papermill": {
     "duration": 0.017484,
     "end_time": "2022-09-17T10:54:24.891658",
     "exception": false,
     "start_time": "2022-09-17T10:54:24.874174",
     "status": "completed"
    },
    "tags": []
   },
   "outputs": [],
   "source": [
    "#Predicting with some more data\n",
    "\n",
    "def predict(text):\n",
    "     x = cv.transform([text]).toarray() # converting text to bag of words model (Vector)\n",
    "     lang = model.predict(x) # predicting the language\n",
    "     lang = le.inverse_transform(lang) # finding the language corresponding the the predicted value\n",
    "     print(\"The langauge is in\",lang[0]) # printing the language"
   ]
  },
  {
   "cell_type": "code",
   "execution_count": 15,
   "id": "0f73b32d",
   "metadata": {
    "execution": {
     "iopub.execute_input": "2022-09-17T10:54:24.907069Z",
     "iopub.status.busy": "2022-09-17T10:54:24.906241Z",
     "iopub.status.idle": "2022-09-17T10:54:24.921788Z",
     "shell.execute_reply": "2022-09-17T10:54:24.919892Z"
    },
    "papermill": {
     "duration": 0.032914,
     "end_time": "2022-09-17T10:54:24.930988",
     "exception": false,
     "start_time": "2022-09-17T10:54:24.898074",
     "status": "completed"
    },
    "tags": []
   },
   "outputs": [
    {
     "name": "stdout",
     "output_type": "stream",
     "text": [
      "The langauge is in English\n"
     ]
    }
   ],
   "source": [
    "predict('People are awesome')"
   ]
  },
  {
   "cell_type": "code",
   "execution_count": 16,
   "id": "8d0ce8e2",
   "metadata": {
    "execution": {
     "iopub.execute_input": "2022-09-17T10:54:24.967993Z",
     "iopub.status.busy": "2022-09-17T10:54:24.967120Z",
     "iopub.status.idle": "2022-09-17T10:54:24.981767Z",
     "shell.execute_reply": "2022-09-17T10:54:24.980323Z"
    },
    "papermill": {
     "duration": 0.037837,
     "end_time": "2022-09-17T10:54:24.985875",
     "exception": false,
     "start_time": "2022-09-17T10:54:24.948038",
     "status": "completed"
    },
    "tags": []
   },
   "outputs": [
    {
     "name": "stdout",
     "output_type": "stream",
     "text": [
      "The langauge is in Malayalam\n"
     ]
    }
   ],
   "source": [
    "predict('നൽകുന്നു')"
   ]
  },
  {
   "cell_type": "code",
   "execution_count": 17,
   "id": "2d71b717",
   "metadata": {
    "execution": {
     "iopub.execute_input": "2022-09-17T10:54:25.020151Z",
     "iopub.status.busy": "2022-09-17T10:54:25.019335Z",
     "iopub.status.idle": "2022-09-17T10:54:25.035053Z",
     "shell.execute_reply": "2022-09-17T10:54:25.033532Z"
    },
    "papermill": {
     "duration": 0.037794,
     "end_time": "2022-09-17T10:54:25.039300",
     "exception": false,
     "start_time": "2022-09-17T10:54:25.001506",
     "status": "completed"
    },
    "tags": []
   },
   "outputs": [
    {
     "name": "stdout",
     "output_type": "stream",
     "text": [
      "The langauge is in Spanish\n"
     ]
    }
   ],
   "source": [
    "predict('Nature es una de las más prestigiosas')"
   ]
  },
  {
   "cell_type": "code",
   "execution_count": null,
   "id": "619d0acd",
   "metadata": {
    "papermill": {
     "duration": 0.014808,
     "end_time": "2022-09-17T10:54:25.069467",
     "exception": false,
     "start_time": "2022-09-17T10:54:25.054659",
     "status": "completed"
    },
    "tags": []
   },
   "outputs": [],
   "source": []
  }
 ],
 "metadata": {
  "kernelspec": {
   "display_name": "Python 3 (ipykernel)",
   "language": "python",
   "name": "python3"
  },
  "language_info": {
   "codemirror_mode": {
    "name": "ipython",
    "version": 3
   },
   "file_extension": ".py",
   "mimetype": "text/x-python",
   "name": "python",
   "nbconvert_exporter": "python",
   "pygments_lexer": "ipython3",
   "version": "3.9.12"
  },
  "papermill": {
   "default_parameters": {},
   "duration": 50.430729,
   "end_time": "2022-09-17T10:54:26.219831",
   "environment_variables": {},
   "exception": null,
   "input_path": "__notebook__.ipynb",
   "output_path": "__notebook__.ipynb",
   "parameters": {},
   "start_time": "2022-09-17T10:53:35.789102",
   "version": "2.3.4"
  }
 },
 "nbformat": 4,
 "nbformat_minor": 5
}
